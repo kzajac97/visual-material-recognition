{
 "cells": [
  {
   "cell_type": "markdown",
   "id": "ed47b4b7-334e-4e76-ac08-e5b681fae801",
   "metadata": {},
   "source": [
    "# Experiments\n",
    "\n",
    "### Paths"
   ]
  },
  {
   "cell_type": "code",
   "execution_count": 1,
   "id": "906f59e1-2c00-4b9b-96cb-60e3bcc3b680",
   "metadata": {},
   "outputs": [],
   "source": [
    "import sys\n",
    "\n",
    "root_path = \"..\"  # top-level of the repository\n",
    "\n",
    "sys.path.append(root_path)"
   ]
  },
  {
   "cell_type": "markdown",
   "id": "23dde5f8-0ce3-481a-940a-37901c355f01",
   "metadata": {},
   "source": [
    "### Setup"
   ]
  },
  {
   "cell_type": "code",
   "execution_count": 2,
   "id": "e93facf4-20bd-4172-bf91-ea661cca018c",
   "metadata": {},
   "outputs": [],
   "source": [
    "%load_ext autoreload"
   ]
  },
  {
   "cell_type": "code",
   "execution_count": 3,
   "id": "1b591997-6ef0-44f5-ae7a-5f4526d9cc94",
   "metadata": {},
   "outputs": [],
   "source": [
    "%autoreload 2\n",
    "\n",
    "import os\n",
    "from pathlib import Path\n",
    "from tempfile import mkdtemp\n",
    "\n",
    "import numpy as np\n",
    "import pandas as pd\n",
    "import seaborn as sns\n",
    "from matplotlib import pyplot as plt\n",
    "from pymks import TwoPointCorrelation\n",
    "from skimage import io\n",
    "from skimage.color import rgb2gray\n",
    "from skimage.feature import canny\n",
    "from skimage.filters import threshold_otsu\n",
    "from sklearn.decomposition import PCA\n",
    "from sklearn.neighbors import KNeighborsRegressor\n",
    "from sklearn.svm import SVR\n",
    "from sklearn.compose import TransformedTargetRegressor\n",
    "from sklearn.gaussian_process import GaussianProcessRegressor\n",
    "from sklearn import metrics\n",
    "from sklearn.pipeline import Pipeline, FeatureUnion\n",
    "from sklearn.model_selection import train_test_split\n",
    "from sklearn.neural_network import MLPRegressor\n",
    "from sklearn.linear_model import LinearRegression\n",
    "from sklearn.preprocessing import StandardScaler, PowerTransformer, FunctionTransformer, QuantileTransformer\n",
    "\n",
    "from src.metrics import regression_report, regression_score\n",
    "from src.models.baselines import MeanBaseline, MedianBaseline\n",
    "from src.fractal import compute_fractal_dimension\n",
    "from src.thresholding import count_pixel_values, otsu_threshold, local_threshold_otsu\n",
    "from src.utils import load_image_batch, sample_one, to_batch_function"
   ]
  },
  {
   "cell_type": "code",
   "execution_count": 4,
   "id": "3b128daf-9bb5-40a4-9cb8-cb5e38de098d",
   "metadata": {},
   "outputs": [],
   "source": [
    "sns.set()\n",
    "plt.rcParams[\"figure.figsize\"] = (16, 10)"
   ]
  },
  {
   "cell_type": "code",
   "execution_count": 5,
   "id": "920d0c1f-1a0d-4920-97a0-9ff35cea9d1d",
   "metadata": {},
   "outputs": [],
   "source": [
    "cachedir = mkdtemp()  # for sklearn pipelines"
   ]
  },
  {
   "cell_type": "markdown",
   "id": "f55300b7-c0f3-4036-815f-96e55a1a7833",
   "metadata": {},
   "source": [
    "# Dataset"
   ]
  },
  {
   "cell_type": "code",
   "execution_count": 6,
   "id": "657f645f-7989-4878-9a94-2c59217cc224",
   "metadata": {},
   "outputs": [
    {
     "data": {
      "text/html": [
       "<div>\n",
       "<style scoped>\n",
       "    .dataframe tbody tr th:only-of-type {\n",
       "        vertical-align: middle;\n",
       "    }\n",
       "\n",
       "    .dataframe tbody tr th {\n",
       "        vertical-align: top;\n",
       "    }\n",
       "\n",
       "    .dataframe thead th {\n",
       "        text-align: right;\n",
       "    }\n",
       "</style>\n",
       "<table border=\"1\" class=\"dataframe\">\n",
       "  <thead>\n",
       "    <tr style=\"text-align: right;\">\n",
       "      <th></th>\n",
       "      <th>Sample</th>\n",
       "      <th>Hardness</th>\n",
       "      <th>File</th>\n",
       "      <th>Location</th>\n",
       "      <th>Code</th>\n",
       "    </tr>\n",
       "  </thead>\n",
       "  <tbody>\n",
       "    <tr>\n",
       "      <th>0</th>\n",
       "      <td>1-101-2</td>\n",
       "      <td>129.9</td>\n",
       "      <td>../data/images/processed/1-101-2.jpg</td>\n",
       "      <td>top-right</td>\n",
       "      <td>1-101</td>\n",
       "    </tr>\n",
       "    <tr>\n",
       "      <th>1</th>\n",
       "      <td>1-101-4</td>\n",
       "      <td>130.0</td>\n",
       "      <td>../data/images/processed/1-101-4.jpg</td>\n",
       "      <td>bottom-left</td>\n",
       "      <td>1-101</td>\n",
       "    </tr>\n",
       "    <tr>\n",
       "      <th>2</th>\n",
       "      <td>1-102-2</td>\n",
       "      <td>137.6</td>\n",
       "      <td>../data/images/processed/1-102-2.jpg</td>\n",
       "      <td>top-right</td>\n",
       "      <td>1-102</td>\n",
       "    </tr>\n",
       "  </tbody>\n",
       "</table>\n",
       "</div>"
      ],
      "text/plain": [
       "    Sample  Hardness                                  File     Location   Code\n",
       "0  1-101-2     129.9  ../data/images/processed/1-101-2.jpg    top-right  1-101\n",
       "1  1-101-4     130.0  ../data/images/processed/1-101-4.jpg  bottom-left  1-101\n",
       "2  1-102-2     137.6  ../data/images/processed/1-102-2.jpg    top-right  1-102"
      ]
     },
     "execution_count": 6,
     "metadata": {},
     "output_type": "execute_result"
    }
   ],
   "source": [
    "mesurements_df = pd.read_csv(\"../data/dataset.csv\")\n",
    "mesurements_df.head(3)"
   ]
  },
  {
   "cell_type": "markdown",
   "id": "8ef4cd15-1838-4266-9c2d-74177eb74f39",
   "metadata": {},
   "source": [
    "Split dataset into train and test using sample code, to prevent information leakage."
   ]
  },
  {
   "cell_type": "code",
   "execution_count": 7,
   "id": "9243bcc7-e7a9-4ff5-8547-2f607cc5a381",
   "metadata": {},
   "outputs": [
    {
     "data": {
      "text/plain": [
       "(176, 76)"
      ]
     },
     "execution_count": 7,
     "metadata": {},
     "output_type": "execute_result"
    }
   ],
   "source": [
    "train_codes, test_codes = train_test_split(mesurements_df[\"Code\"].unique(), test_size=0.3, random_state=7)\n",
    "len(train_codes), len(test_codes)"
   ]
  },
  {
   "cell_type": "code",
   "execution_count": 8,
   "id": "a4fcd48e-02bc-4b1b-a965-630676d898ef",
   "metadata": {},
   "outputs": [],
   "source": [
    "train_df = mesurements_df.loc[mesurements_df[\"Code\"].isin(train_codes)]\n",
    "test_df = mesurements_df.loc[mesurements_df[\"Code\"].isin(test_codes)]\n",
    "\n",
    "train_images = load_image_batch(train_df[\"File\"].tolist())\n",
    "test_images = load_image_batch(test_df[\"File\"].tolist())"
   ]
  },
  {
   "cell_type": "markdown",
   "id": "9145e19c-a18e-4317-aaab-e56347c88171",
   "metadata": {},
   "source": [
    "# Baselines\n",
    "\n",
    "Baseline results to compare to. <br>\n",
    "Those just return mean and median values of the training data <br>\n",
    "Only `MeanBaseline` is included in the paper.\n",
    "\n",
    "### Mean Baseline"
   ]
  },
  {
   "cell_type": "code",
   "execution_count": 9,
   "id": "649320fb-1096-479c-b3ea-c25951f98b9e",
   "metadata": {},
   "outputs": [],
   "source": [
    "mean_baseline = MeanBaseline()\n",
    "mean_baseline.fit(x=None, y=train_df[\"Hardness\"].values)"
   ]
  },
  {
   "cell_type": "code",
   "execution_count": 10,
   "id": "0fa9fc10-74e5-4c55-8998-212c0a481b90",
   "metadata": {},
   "outputs": [
    {
     "name": "stdout",
     "output_type": "stream",
     "text": [
      "                                Absolute                        Normalized                      \n",
      "\n",
      "Mean Squared Error:             66.6716                         8.2406                          \n",
      "Root Mean Squared Error:        8.1653                          1.0092                          \n",
      "Mean Absolute Error:            6.4395                          0.7959                          \n",
      "Median Absolute Error:          5.3586                          0.6623                          \n",
      "Max Error:                      24.2586                         2.9983                          \n",
      "R2                                                              -0.0185                         \n",
      "\n",
      "\n",
      "                                True                            Predicted                       \n",
      "\n",
      "Mean:                           136.9574                        138.0586                        \n",
      "std:                            8.0907                          0.0000                          \n",
      "\n"
     ]
    }
   ],
   "source": [
    "predictions = mean_baseline.predict(test_df[\"Hardness\"])  # input variable matters just to keep consistent shape\n",
    "print(regression_report(y_true=test_df[\"Hardness\"].values, y_pred=predictions))"
   ]
  },
  {
   "cell_type": "markdown",
   "id": "2f93e5ba-da32-430d-8f2f-92a383ab4ddb",
   "metadata": {},
   "source": [
    "# Otsu-Based Index\n",
    "\n",
    "Experiment using otsu-based index as described in the paper. <br>\n",
    "Targets are scaled using `StandardScaler` and computation is done in sklearn `Pipeline` object."
   ]
  },
  {
   "cell_type": "code",
   "execution_count": 11,
   "id": "20056833-19db-455e-8caf-7c5a79a9c42d",
   "metadata": {},
   "outputs": [],
   "source": [
    "target_pipeline = Pipeline([\n",
    "    (\"scalar\", StandardScaler()),\n",
    "])\n",
    "\n",
    "pipeline = Pipeline([\n",
    "    (\"color_to_grey\", FunctionTransformer(rgb2gray)),\n",
    "    (\"otsu\", FunctionTransformer(to_batch_function(otsu_threshold))),\n",
    "    (\"count_pixels\", FunctionTransformer(count_pixel_values)),\n",
    "    (\"model\", TransformedTargetRegressor(LinearRegression(), transformer=target_pipeline))\n",
    "])"
   ]
  },
  {
   "cell_type": "code",
   "execution_count": 12,
   "id": "ea652d03-9190-4e6e-84e4-f9c290dfe511",
   "metadata": {},
   "outputs": [
    {
     "name": "stdout",
     "output_type": "stream",
     "text": [
      "CPU times: user 7.02 s, sys: 10.1 s, total: 17.1 s\n",
      "Wall time: 17.1 s\n"
     ]
    }
   ],
   "source": [
    "%%time\n",
    "\n",
    "pipeline = pipeline.fit(train_images, train_df[\"Hardness\"].values)"
   ]
  },
  {
   "cell_type": "code",
   "execution_count": 13,
   "id": "c6e05be7-5ccb-46c4-bcc4-f97fe8283584",
   "metadata": {},
   "outputs": [],
   "source": [
    "predictions = pipeline.predict(test_images)"
   ]
  },
  {
   "cell_type": "code",
   "execution_count": 14,
   "id": "6a2825c4-9bf5-44d0-9cd9-f1b22baa5320",
   "metadata": {},
   "outputs": [
    {
     "name": "stdout",
     "output_type": "stream",
     "text": [
      "                                Absolute                        Normalized                      \n",
      "\n",
      "Mean Squared Error:             52.2930                         6.4634                          \n",
      "Root Mean Squared Error:        7.2314                          0.8938                          \n",
      "Mean Absolute Error:            5.6436                          0.6975                          \n",
      "Median Absolute Error:          4.4881                          0.5547                          \n",
      "Max Error:                      23.2307                         2.8713                          \n",
      "R2                                                              0.2011                          \n",
      "\n",
      "\n",
      "                                True                            Predicted                       \n",
      "\n",
      "Mean:                           136.9574                        137.4273                        \n",
      "std:                            8.0907                          3.1992                          \n",
      "\n"
     ]
    }
   ],
   "source": [
    "print(regression_report(y_true=test_df[\"Hardness\"].values, y_pred=predictions.flatten()))"
   ]
  },
  {
   "cell_type": "markdown",
   "id": "cb3eeb18-b278-4e59-9e7f-a2e08060fadb",
   "metadata": {},
   "source": [
    "# Fractal dimension index\n",
    "\n",
    "*Note*: This is not reproduction of the results in the paper (it can be found below). <br>\n",
    "The parameter `sigma` of Canny detector was set to 1, and not 0.8. <br>\n",
    "\n",
    "Exact reproduction is provised further in this notebook."
   ]
  },
  {
   "cell_type": "code",
   "execution_count": 15,
   "id": "256769ea-9d7c-487f-a6df-97b09c025d69",
   "metadata": {},
   "outputs": [],
   "source": [
    "def canny_filter(x):\n",
    "    \"\"\"Shorthand to use canny with non-default sigma value and to_batch_function wrapper\"\"\"\n",
    "    return canny(x, sigma=0.8)\n",
    "\n",
    "target_pipeline = Pipeline([\n",
    "    (\"scalar\", StandardScaler()),\n",
    "])\n",
    "\n",
    "pipeline = Pipeline([\n",
    "    (\"color_to_grey\", FunctionTransformer(rgb2gray)),\n",
    "    (\"canny\", FunctionTransformer(to_batch_function(canny_filter))),\n",
    "    (\"fractal_dimension\", FunctionTransformer(to_batch_function(compute_fractal_dimension))),\n",
    "    (\"model\", TransformedTargetRegressor(LinearRegression(), transformer=target_pipeline))\n",
    "])"
   ]
  },
  {
   "cell_type": "code",
   "execution_count": 16,
   "id": "88f32ab1-1b0f-4617-b7e3-2f4b92bf6024",
   "metadata": {},
   "outputs": [
    {
     "name": "stdout",
     "output_type": "stream",
     "text": [
      "CPU times: user 1min 3s, sys: 6.88 s, total: 1min 10s\n",
      "Wall time: 1min 10s\n"
     ]
    }
   ],
   "source": [
    "%%time\n",
    "\n",
    "pipeline = pipeline.fit(train_images, train_df[\"Hardness\"].values)"
   ]
  },
  {
   "cell_type": "code",
   "execution_count": 17,
   "id": "cdda2a0f-43c4-4bd3-bb55-3aee0d6b37a1",
   "metadata": {},
   "outputs": [],
   "source": [
    "predictions = pipeline.predict(test_images)"
   ]
  },
  {
   "cell_type": "code",
   "execution_count": 18,
   "id": "9521234e-bc8e-4e8c-82ae-b042cbbf8692",
   "metadata": {},
   "outputs": [
    {
     "name": "stdout",
     "output_type": "stream",
     "text": [
      "                                Absolute                        Normalized                      \n",
      "\n",
      "Mean Squared Error:             45.1667                         5.5826                          \n",
      "Root Mean Squared Error:        6.7206                          0.8307                          \n",
      "Mean Absolute Error:            5.1638                          0.6382                          \n",
      "Median Absolute Error:          4.1153                          0.5086                          \n",
      "Max Error:                      27.7682                         3.4321                          \n",
      "R2                                                              0.3100                          \n",
      "\n",
      "\n",
      "                                True                            Predicted                       \n",
      "\n",
      "Mean:                           136.9574                        137.4277                        \n",
      "std:                            8.0907                          3.8298                          \n",
      "\n"
     ]
    }
   ],
   "source": [
    "print(regression_report(y_true=test_df[\"Hardness\"].values, y_pred=predictions.flatten()))"
   ]
  },
  {
   "cell_type": "markdown",
   "id": "e300661c-849b-4562-a5c2-c0b19f8dd545",
   "metadata": {},
   "source": [
    "# 2-Point Correlation"
   ]
  },
  {
   "cell_type": "code",
   "execution_count": 19,
   "id": "8a270aa6-2a80-45b2-80b5-c50064f098d1",
   "metadata": {},
   "outputs": [],
   "source": [
    "target_pipeline = Pipeline([\n",
    "    (\"scalar\", StandardScaler()),\n",
    "])\n",
    "\n",
    "pipeline = Pipeline([\n",
    "    (\"color_to_grey\", FunctionTransformer(rgb2gray)),\n",
    "    (\"ostu_threshold\", FunctionTransformer(to_batch_function(otsu_threshold))),\n",
    "    (\"2p_correlation\", TwoPointCorrelation(periodic_boundary=True, cutoff=600)),\n",
    "    (\"flatten\", FunctionTransformer(lambda x: x.reshape(x.shape[0], x.shape[1] * x.shape[2]))),  # flatten image, not batch of images\n",
    "    (\"pca\", PCA(n_components=50)),\n",
    "    (\"model\", TransformedTargetRegressor(LinearRegression(), transformer=target_pipeline))\n",
    "])"
   ]
  },
  {
   "cell_type": "code",
   "execution_count": 20,
   "id": "50ae7615-03a2-464b-b330-7e6b87ce9d97",
   "metadata": {},
   "outputs": [
    {
     "name": "stdout",
     "output_type": "stream",
     "text": [
      "CPU times: user 4min 33s, sys: 1min 3s, total: 5min 37s\n",
      "Wall time: 1min 21s\n"
     ]
    }
   ],
   "source": [
    "%%time\n",
    "\n",
    "pipeline = pipeline.fit(train_images, train_df[\"Hardness\"].values)\n",
    "predictions = pipeline.predict(test_images)"
   ]
  },
  {
   "cell_type": "code",
   "execution_count": 21,
   "id": "53e2367b-3310-4521-92f4-4ee1c72258ea",
   "metadata": {},
   "outputs": [
    {
     "name": "stdout",
     "output_type": "stream",
     "text": [
      "                                Absolute                        Normalized                      \n",
      "\n",
      "Mean Squared Error:             55.9808                         6.9192                          \n",
      "Root Mean Squared Error:        7.4820                          0.9248                          \n",
      "Mean Absolute Error:            5.8748                          0.7261                          \n",
      "Median Absolute Error:          4.8804                          0.6032                          \n",
      "Max Error:                      24.8302                         3.0690                          \n",
      "R2                                                              0.1448                          \n",
      "\n",
      "\n",
      "                                True                            Predicted                       \n",
      "\n",
      "Mean:                           136.9574                        137.6545                        \n",
      "std:                            8.0907                          3.2818                          \n",
      "\n"
     ]
    }
   ],
   "source": [
    "# results might vary from run to run, because of random initialization, but should be on avarage the same as reported\n",
    "print(regression_report(y_true=test_df[\"Hardness\"].values, y_pred=predictions.flatten()))"
   ]
  },
  {
   "cell_type": "code",
   "execution_count": null,
   "id": "23ea8613-aef5-4599-a4d5-7a26a50bf06e",
   "metadata": {},
   "outputs": [],
   "source": []
  }
 ],
 "metadata": {
  "kernelspec": {
   "display_name": "Python 3 (ipykernel)",
   "language": "python",
   "name": "python3"
  },
  "language_info": {
   "codemirror_mode": {
    "name": "ipython",
    "version": 3
   },
   "file_extension": ".py",
   "mimetype": "text/x-python",
   "name": "python",
   "nbconvert_exporter": "python",
   "pygments_lexer": "ipython3",
   "version": "3.8.10"
  }
 },
 "nbformat": 4,
 "nbformat_minor": 5
}
